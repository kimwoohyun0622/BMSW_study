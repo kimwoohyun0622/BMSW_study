{
 "cells": [
  {
   "cell_type": "code",
   "id": "initial_id",
   "metadata": {
    "collapsed": true,
    "ExecuteTime": {
     "end_time": "2025-05-09T04:57:43.561201Z",
     "start_time": "2025-05-09T04:57:43.555642Z"
    }
   },
   "source": [
    "# 간선 리스트 (edge_index)\n",
    "edges = [(1, 2), (2, 0)]  # 방향 그래프\n",
    "num_nodes = 3\n",
    "\n",
    "# adjacency matrix 초기화\n",
    "adj = [[0 for _ in range(num_nodes)] for _ in range(num_nodes)]\n",
    "\n",
    "# 간선 정보 반영\n",
    "for src, dst in edges:\n",
    "    adj[src][dst] = 1\n",
    "    adj[dst][src] = 1\n",
    "\n",
    "# 출력\n",
    "print(\"Adjacency Matrix (list):\")\n",
    "for row in adj:\n",
    "    print(row)\n"
   ],
   "outputs": [
    {
     "name": "stdout",
     "output_type": "stream",
     "text": [
      "Adjacency Matrix (list):\n",
      "[0, 0, 1]\n",
      "[0, 0, 1]\n",
      "[1, 1, 0]\n"
     ]
    }
   ],
   "execution_count": 3
  },
  {
   "metadata": {
    "ExecuteTime": {
     "end_time": "2025-05-09T04:58:49.129822Z",
     "start_time": "2025-05-09T04:58:48.983267Z"
    }
   },
   "cell_type": "code",
   "source": [
    "import numpy as np\n",
    "\n",
    "edges = [(0, 1), (1, 2), (2, 0)]\n",
    "num_nodes = 3\n",
    "\n",
    "adj = np.zeros((num_nodes, num_nodes), dtype=int)\n",
    "\n",
    "for src, dst in edges:\n",
    "    adj[src][dst] = 1\n",
    "    adj[dst][src] = 1\n",
    "\n",
    "print(\"Adjacency Matrix (NumPy):\")\n",
    "print(adj)\n"
   ],
   "id": "c5e3587baef9b335",
   "outputs": [
    {
     "name": "stdout",
     "output_type": "stream",
     "text": [
      "Adjacency Matrix (NumPy):\n",
      "[[0 1 1]\n",
      " [1 0 1]\n",
      " [1 1 0]]\n"
     ]
    }
   ],
   "execution_count": 4
  },
  {
   "metadata": {
    "ExecuteTime": {
     "end_time": "2025-05-09T05:02:42.605360Z",
     "start_time": "2025-05-09T05:02:40.285295Z"
    }
   },
   "cell_type": "code",
   "source": [
    "import torch\n",
    "\n",
    "edges = [(0, 1), (1, 2), (2, 0)]\n",
    "num_nodes = 3\n",
    "\n",
    "adj = torch.zeros((num_nodes, num_nodes), dtype=torch.float)\n",
    "\n",
    "for src, dst in edges:\n",
    "    adj[src][dst] = 1.0\n",
    "    adj[dst][src] = 1.0\n",
    "\n",
    "print(\"Adjacency Matrix (Torch):\")\n",
    "print(adj)"
   ],
   "id": "c036c1762df612c3",
   "outputs": [
    {
     "name": "stdout",
     "output_type": "stream",
     "text": [
      "Adjacency Matrix (Torch):\n",
      "tensor([[0., 1., 1.],\n",
      "        [1., 0., 1.],\n",
      "        [1., 1., 0.]])\n"
     ]
    }
   ],
   "execution_count": 5
  },
  {
   "metadata": {
    "ExecuteTime": {
     "end_time": "2025-05-09T05:05:19.581520Z",
     "start_time": "2025-05-09T05:05:13.426792Z"
    }
   },
   "cell_type": "code",
   "source": [
    "from scipy import sparse\n",
    "from torch_geometric.utils import to_scipy_sparse_matrix"
   ],
   "id": "51af1d9736e99b1a",
   "outputs": [
    {
     "name": "stderr",
     "output_type": "stream",
     "text": [
      "C:\\Users\\ukg_1\\AppData\\Local\\Programs\\Python\\Python312\\Lib\\site-packages\\tqdm\\auto.py:21: TqdmWarning: IProgress not found. Please update jupyter and ipywidgets. See https://ipywidgets.readthedocs.io/en/stable/user_install.html\n",
      "  from .autonotebook import tqdm as notebook_tqdm\n"
     ]
    }
   ],
   "execution_count": 6
  },
  {
   "metadata": {
    "ExecuteTime": {
     "end_time": "2025-05-09T05:05:30.730639Z",
     "start_time": "2025-05-09T05:05:21.491643Z"
    }
   },
   "cell_type": "code",
   "source": [
    "from torch_geometric.datasets import Planetoid\n",
    "\n",
    "dataset = Planetoid(root=\"Cora\",name=\"Cora\")\n",
    "data = dataset[0]\n",
    "print(data)"
   ],
   "id": "6f8bd2517d348be3",
   "outputs": [
    {
     "name": "stderr",
     "output_type": "stream",
     "text": [
      "Downloading https://github.com/kimiyoung/planetoid/raw/master/data/ind.cora.x\n",
      "Downloading https://github.com/kimiyoung/planetoid/raw/master/data/ind.cora.tx\n",
      "Downloading https://github.com/kimiyoung/planetoid/raw/master/data/ind.cora.allx\n",
      "Downloading https://github.com/kimiyoung/planetoid/raw/master/data/ind.cora.y\n",
      "Downloading https://github.com/kimiyoung/planetoid/raw/master/data/ind.cora.ty\n",
      "Downloading https://github.com/kimiyoung/planetoid/raw/master/data/ind.cora.ally\n",
      "Downloading https://github.com/kimiyoung/planetoid/raw/master/data/ind.cora.graph\n",
      "Downloading https://github.com/kimiyoung/planetoid/raw/master/data/ind.cora.test.index\n"
     ]
    },
    {
     "name": "stdout",
     "output_type": "stream",
     "text": [
      "Data(x=[2708, 1433], edge_index=[2, 10556], y=[2708], train_mask=[2708], val_mask=[2708], test_mask=[2708])\n"
     ]
    },
    {
     "name": "stderr",
     "output_type": "stream",
     "text": [
      "Processing...\n",
      "Done!\n"
     ]
    }
   ],
   "execution_count": 7
  },
  {
   "metadata": {
    "ExecuteTime": {
     "end_time": "2025-05-09T05:06:56.100165Z",
     "start_time": "2025-05-09T05:06:56.094496Z"
    }
   },
   "cell_type": "code",
   "source": [
    "print(\"Edge Index:\")\n",
    "print(data.edge_index)\n",
    "print(\"Node Features:\")\n",
    "print(data.x)"
   ],
   "id": "76a05d46ed4c6609",
   "outputs": [
    {
     "name": "stdout",
     "output_type": "stream",
     "text": [
      "Edge Index:\n",
      "tensor([[ 633, 1862, 2582,  ...,  598, 1473, 2706],\n",
      "        [   0,    0,    0,  ..., 2707, 2707, 2707]])\n",
      "Node Features:\n",
      "tensor([[0., 0., 0.,  ..., 0., 0., 0.],\n",
      "        [0., 0., 0.,  ..., 0., 0., 0.],\n",
      "        [0., 0., 0.,  ..., 0., 0., 0.],\n",
      "        ...,\n",
      "        [0., 0., 0.,  ..., 0., 0., 0.],\n",
      "        [0., 0., 0.,  ..., 0., 0., 0.],\n",
      "        [0., 0., 0.,  ..., 0., 0., 0.]])\n"
     ]
    }
   ],
   "execution_count": 10
  },
  {
   "metadata": {
    "ExecuteTime": {
     "end_time": "2025-05-09T05:08:40.675198Z",
     "start_time": "2025-05-09T05:08:40.666909Z"
    }
   },
   "cell_type": "code",
   "source": [
    "def get_adjacency_matrix(edge_index):\n",
    "    # working with scipy sparse since current PyTorch version doesn't support sparse x sparse multiplication\n",
    "    adj = to_scipy_sparse_matrix(edge_index)\n",
    "    adj += sparse.eye(adj.shape[0])  # add self loops\n",
    "    degree_for_norm = sparse.diags(np.power(np.array(adj.sum(1)), -0.5).flatten())  # D^(-0.5)\n",
    "    adj_hat_csr = degree_for_norm.dot(adj.dot(degree_for_norm))  # D^(-0.5) * A * D^(-0.5)\n",
    "    adj_hat_coo = adj_hat_csr.tocoo().astype(np.float32)\n",
    "    # to torch sparse matrix\n",
    "    indices = torch.from_numpy(np.vstack((adj_hat_coo.row, adj_hat_coo.col)).astype(np.int64))\n",
    "    values = torch.from_numpy(adj_hat_coo.data)\n",
    "    adjacency_matrix = torch.sparse_coo_tensor(indices, values, torch.Size(adj_hat_coo.shape))\n",
    "\n",
    "    return adjacency_matrix, adj_hat_csr"
   ],
   "id": "151c0131b4bcb23c",
   "outputs": [],
   "execution_count": 11
  },
  {
   "metadata": {
    "ExecuteTime": {
     "end_time": "2025-05-09T05:09:12.793387Z",
     "start_time": "2025-05-09T05:09:12.779663Z"
    }
   },
   "cell_type": "code",
   "source": [
    "matrix, _ = get_adjacency_matrix(data.edge_index)\n",
    "print(matrix)"
   ],
   "id": "1354a902214dbdf1",
   "outputs": [
    {
     "name": "stdout",
     "output_type": "stream",
     "text": [
      "tensor(indices=tensor([[   0,    0,    0,  ..., 2707, 2707, 2707],\n",
      "                       [   0,  633, 1862,  ..., 1473, 2706, 2707]]),\n",
      "       values=tensor([0.2500, 0.2500, 0.2236,  ..., 0.2000, 0.2000, 0.2000]),\n",
      "       size=(2708, 2708), nnz=13264, layout=torch.sparse_coo)\n"
     ]
    }
   ],
   "execution_count": 14
  }
 ],
 "metadata": {
  "kernelspec": {
   "display_name": "Python 3",
   "language": "python",
   "name": "python3"
  },
  "language_info": {
   "codemirror_mode": {
    "name": "ipython",
    "version": 2
   },
   "file_extension": ".py",
   "mimetype": "text/x-python",
   "name": "python",
   "nbconvert_exporter": "python",
   "pygments_lexer": "ipython2",
   "version": "2.7.6"
  }
 },
 "nbformat": 4,
 "nbformat_minor": 5
}
