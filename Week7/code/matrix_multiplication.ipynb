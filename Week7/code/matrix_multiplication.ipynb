{
 "cells": [
  {
   "metadata": {
    "ExecuteTime": {
     "end_time": "2025-05-09T04:38:45.541736Z",
     "start_time": "2025-05-09T04:38:45.537460Z"
    }
   },
   "cell_type": "code",
   "source": [
    "list = [1,2,3,\n",
    "        4,5,6,\n",
    "        7,8,9,]\n",
    "\n",
    "list_2d = [[1,2,3],\n",
    "           [4,5,6],\n",
    "           [7,8,9],]"
   ],
   "id": "f2c27a00f0036672",
   "outputs": [],
   "execution_count": 2
  },
  {
   "metadata": {
    "ExecuteTime": {
     "end_time": "2025-05-09T04:38:46.957280Z",
     "start_time": "2025-05-09T04:38:46.952355Z"
    }
   },
   "cell_type": "code",
   "outputs": [
    {
     "name": "stdout",
     "output_type": "stream",
     "text": [
      "[1, 2, 3, 4, 5, 6, 7, 8, 9]\n",
      "[[1, 2, 3], [4, 5, 6], [7, 8, 9]]\n",
      "2\n",
      "2\n",
      "9\n",
      "3\n"
     ]
    }
   ],
   "execution_count": 3,
   "source": [
    "print(list)\n",
    "print(list_2d)\n",
    "\n",
    "print(list[1])\n",
    "print(list_2d[0][1])\n",
    "\n",
    "print(len(list))\n",
    "print(len(list_2d))"
   ],
   "id": "7368c0937adc1b76"
  },
  {
   "cell_type": "code",
   "id": "initial_id",
   "metadata": {
    "collapsed": true,
    "ExecuteTime": {
     "end_time": "2025-05-09T04:46:51.173711Z",
     "start_time": "2025-05-09T04:46:51.168672Z"
    }
   },
   "source": [
    "def matmul(A, B):\n",
    "    m = len(A)         # A의 행 개수\n",
    "    n = len(A[0])      # A의 열 개수 == B의 행 개수\n",
    "    p = len(B[0])      # B의 열 개수\n",
    "\n",
    "    # 결과 행렬 C 초기화 (m x p)\n",
    "    C = [[0 for _ in range(p)] for _ in range(m)]\n",
    "\n",
    "    # 행렬곱 계산\n",
    "    for i in range(m):          # A의 행\n",
    "        for j in range(p):      # B의 열\n",
    "            for k in range(n):  # A의 열 == B의 행\n",
    "                C[i][j] += A[i][k] * B[k][j]\n",
    "\n",
    "    return C"
   ],
   "outputs": [],
   "execution_count": 17
  },
  {
   "metadata": {
    "ExecuteTime": {
     "end_time": "2025-05-09T04:41:30.789173Z",
     "start_time": "2025-05-09T04:41:30.784737Z"
    }
   },
   "cell_type": "code",
   "outputs": [],
   "execution_count": 8,
   "source": [
    "matrix_1 = [[1,2,3],\n",
    "            [4,5,6],\n",
    "            [7,8,9],]\n",
    "\n",
    "matrix_2 = [[3,0,0],\n",
    "            [0,1,0],\n",
    "            [0,0,1],]"
   ],
   "id": "d14c1c57381d6ae4"
  },
  {
   "metadata": {
    "ExecuteTime": {
     "end_time": "2025-05-09T04:46:55.082824Z",
     "start_time": "2025-05-09T04:46:55.078504Z"
    }
   },
   "cell_type": "code",
   "source": [
    "matrix_3 = matmul(matrix_1, matrix_2)\n",
    "print(matrix_3)"
   ],
   "id": "8752dfaf32ef9e53",
   "outputs": [
    {
     "name": "stdout",
     "output_type": "stream",
     "text": [
      "[[3, 2, 3], [12, 5, 6], [21, 8, 9]]\n"
     ]
    }
   ],
   "execution_count": 21
  },
  {
   "metadata": {
    "ExecuteTime": {
     "end_time": "2025-05-09T04:46:53.548383Z",
     "start_time": "2025-05-09T04:46:53.543475Z"
    }
   },
   "cell_type": "code",
   "source": [
    "vector_1 = [[1,2,3]]\n",
    "matrix_4 = matmul(vector_1, matrix_3)\n",
    "\n",
    "print(matrix_4)"
   ],
   "id": "d41c0976b88c6977",
   "outputs": [
    {
     "name": "stdout",
     "output_type": "stream",
     "text": [
      "[[90, 36, 42]]\n"
     ]
    }
   ],
   "execution_count": 19
  },
  {
   "metadata": {
    "ExecuteTime": {
     "end_time": "2025-05-09T04:46:56.575342Z",
     "start_time": "2025-05-09T04:46:56.569440Z"
    }
   },
   "cell_type": "code",
   "source": [
    "import numpy as np\n",
    "\n",
    "# 기본 행렬 정의\n",
    "matrix_1 = np.array([[1, 2, 3],\n",
    "                     [4, 5, 6],\n",
    "                     [7, 8, 9]])\n",
    "\n",
    "matrix_2 = np.array([[3, 0, 0],\n",
    "                     [0, 1, 0],\n",
    "                     [0, 0, 1]])\n",
    "\n",
    "# 행렬곱 (dot or @)\n",
    "matrix_3 = matrix_1 @ matrix_2   # 또는 np.dot(matrix_1, matrix_2)\n",
    "\n",
    "print(\"matrix_3 (NumPy):\")\n",
    "print(matrix_3)\n",
    "\n",
    "# 벡터 정의 및 곱\n",
    "vector_1 = np.array([[1, 2, 3]])\n",
    "matrix_4 = vector_1 @ matrix_3\n",
    "\n",
    "print(\"matrix_4 (NumPy):\")\n",
    "print(matrix_4)"
   ],
   "id": "be6ed68cc5ebc148",
   "outputs": [
    {
     "name": "stdout",
     "output_type": "stream",
     "text": [
      "matrix_3 (NumPy):\n",
      "[[ 3  2  3]\n",
      " [12  5  6]\n",
      " [21  8  9]]\n",
      "matrix_4 (NumPy):\n",
      "[[90 36 42]]\n"
     ]
    }
   ],
   "execution_count": 22
  },
  {
   "metadata": {
    "ExecuteTime": {
     "end_time": "2025-05-09T04:48:11.451576Z",
     "start_time": "2025-05-09T04:48:08.972442Z"
    }
   },
   "cell_type": "code",
   "source": [
    "import torch\n",
    "\n",
    "# 텐서 정의\n",
    "matrix_1 = torch.tensor([[1, 2, 3],\n",
    "                         [4, 5, 6],\n",
    "                         [7, 8, 9]], dtype=torch.float)\n",
    "\n",
    "matrix_2 = torch.tensor([[3, 0, 0],\n",
    "                         [0, 1, 0],\n",
    "                         [0, 0, 1]], dtype=torch.float)\n",
    "\n",
    "# 행렬곱 (matmul 또는 @ 연산자)\n",
    "matrix_3 = matrix_1 @ matrix_2\n",
    "\n",
    "print(\"matrix_3 (Torch):\")\n",
    "print(matrix_3)\n",
    "\n",
    "# 벡터 정의 및 곱\n",
    "vector_1 = torch.tensor([[1, 2, 3]], dtype=torch.float)\n",
    "matrix_4 = vector_1 @ matrix_3\n",
    "\n",
    "print(\"matrix_4 (Torch):\")\n",
    "print(matrix_4)\n"
   ],
   "id": "3db3564cffedae03",
   "outputs": [
    {
     "name": "stdout",
     "output_type": "stream",
     "text": [
      "matrix_3 (Torch):\n",
      "tensor([[ 3.,  2.,  3.],\n",
      "        [12.,  5.,  6.],\n",
      "        [21.,  8.,  9.]])\n",
      "matrix_4 (Torch):\n",
      "tensor([[90., 36., 42.]])\n"
     ]
    }
   ],
   "execution_count": 24
  }
 ],
 "metadata": {
  "kernelspec": {
   "display_name": "Python 3",
   "language": "python",
   "name": "python3"
  },
  "language_info": {
   "codemirror_mode": {
    "name": "ipython",
    "version": 2
   },
   "file_extension": ".py",
   "mimetype": "text/x-python",
   "name": "python",
   "nbconvert_exporter": "python",
   "pygments_lexer": "ipython2",
   "version": "2.7.6"
  }
 },
 "nbformat": 4,
 "nbformat_minor": 5
}
